{
 "cells": [
  {
   "cell_type": "code",
   "execution_count": 2,
   "id": "b4cab015",
   "metadata": {},
   "outputs": [],
   "source": [
    "#Import the random module.\n",
    "import random"
   ]
  },
  {
   "cell_type": "code",
   "execution_count": 3,
   "id": "32d43b27",
   "metadata": {},
   "outputs": [
    {
     "data": {
      "text/plain": [
       "47"
      ]
     },
     "execution_count": 3,
     "metadata": {},
     "output_type": "execute_result"
    }
   ],
   "source": [
    "random.randint(-90,90)"
   ]
  },
  {
   "cell_type": "code",
   "execution_count": 4,
   "id": "cdcf5d88",
   "metadata": {},
   "outputs": [
    {
     "data": {
      "text/plain": [
       "0.9967765434097055"
      ]
     },
     "execution_count": 4,
     "metadata": {},
     "output_type": "execute_result"
    }
   ],
   "source": [
    "random.random()"
   ]
  },
  {
   "cell_type": "code",
   "execution_count": 5,
   "id": "8fcb441f",
   "metadata": {},
   "outputs": [
    {
     "data": {
      "text/plain": [
       "-82.13831688784853"
      ]
     },
     "execution_count": 5,
     "metadata": {},
     "output_type": "execute_result"
    }
   ],
   "source": [
    "random_number = random.randint(-90,89)+random.random()\n",
    "random_number"
   ]
  },
  {
   "cell_type": "code",
   "execution_count": 6,
   "id": "68812b2d",
   "metadata": {},
   "outputs": [],
   "source": [
    "x=1\n",
    "latitudes= []\n",
    "while x<11: \n",
    "    random_lat= random.randint(-90,89) + random.random()\n",
    "    latitudes.append(random_lat)\n",
    "    x += 1"
   ]
  },
  {
   "cell_type": "code",
   "execution_count": 7,
   "id": "431d693f",
   "metadata": {},
   "outputs": [
    {
     "data": {
      "text/plain": [
       "[81.68297726937658,\n",
       " 17.890762369235276,\n",
       " -45.91441507263776,\n",
       " 54.66590651494744,\n",
       " 58.80243784611299,\n",
       " -72.43638863288565,\n",
       " -10.038867626697888,\n",
       " 53.54146437574201,\n",
       " 43.684803159388636,\n",
       " 4.864348332811206]"
      ]
     },
     "execution_count": 7,
     "metadata": {},
     "output_type": "execute_result"
    }
   ],
   "source": [
    "latitudes"
   ]
  },
  {
   "cell_type": "code",
   "execution_count": 12,
   "id": "adc85a8d",
   "metadata": {},
   "outputs": [
    {
     "data": {
      "text/plain": [
       "70"
      ]
     },
     "execution_count": 12,
     "metadata": {},
     "output_type": "execute_result"
    }
   ],
   "source": [
    "random.randrange(-90,90,step=1)"
   ]
  },
  {
   "cell_type": "code",
   "execution_count": 13,
   "id": "7ea05646",
   "metadata": {},
   "outputs": [
    {
     "data": {
      "text/plain": [
       "33"
      ]
     },
     "execution_count": 13,
     "metadata": {},
     "output_type": "execute_result"
    }
   ],
   "source": [
    "random.randrange(-90,90,step=3)"
   ]
  },
  {
   "cell_type": "code",
   "execution_count": 14,
   "id": "3163ba85",
   "metadata": {},
   "outputs": [
    {
     "data": {
      "text/plain": [
       "-5.9033568831730605"
      ]
     },
     "execution_count": 14,
     "metadata": {},
     "output_type": "execute_result"
    }
   ],
   "source": [
    "random.uniform(-90,90)"
   ]
  },
  {
   "cell_type": "code",
   "execution_count": 15,
   "id": "bb22cb1a",
   "metadata": {},
   "outputs": [],
   "source": [
    "#Import the NumPy module.\n",
    "import numpy as np"
   ]
  },
  {
   "cell_type": "code",
   "execution_count": 16,
   "id": "717f49ba",
   "metadata": {},
   "outputs": [
    {
     "data": {
      "text/plain": [
       "65.77792244543892"
      ]
     },
     "execution_count": 16,
     "metadata": {},
     "output_type": "execute_result"
    }
   ],
   "source": [
    "np.random.uniform(-90.000, 90.000)"
   ]
  },
  {
   "cell_type": "code",
   "execution_count": 17,
   "id": "144e49d9",
   "metadata": {},
   "outputs": [
    {
     "data": {
      "text/plain": [
       "array([ 55.72693379,  46.11196623, -20.77131857,  66.78077034,\n",
       "       -11.68586423, -80.80339644,  -0.45174009,  69.02013879,\n",
       "        50.93991726,  61.80697989,  60.98127411, -80.27441851,\n",
       "       -41.53609251,  28.95198155, -48.67237722,  30.64920166,\n",
       "        69.24424212, -30.05331433,   2.69589872,  87.09664798,\n",
       "        56.07023007,  68.61677317, -79.00680181,  37.2071677 ,\n",
       "        61.11934082,  54.33916174,  -8.99910231, -13.35289012,\n",
       "        -4.77721888,  74.63015174,  55.1554722 , -22.92644815,\n",
       "       -17.89636302, -58.19847794,  86.87592176,  -1.52758097,\n",
       "        77.37991853, -63.31599035,  56.16167098,   9.5673098 ,\n",
       "        -3.20544377,  88.9784964 ,  -4.48322536,  64.34331031,\n",
       "        85.34273924, -69.72969606, -31.54971077, -75.37804463,\n",
       "       -53.4413882 , -28.70287126])"
      ]
     },
     "execution_count": 17,
     "metadata": {},
     "output_type": "execute_result"
    }
   ],
   "source": [
    "np.random.uniform(-90.000,90.000, size=50)"
   ]
  },
  {
   "cell_type": "code",
   "execution_count": 18,
   "id": "2618b4be",
   "metadata": {},
   "outputs": [],
   "source": [
    "#Import timeit\n",
    "import timeit"
   ]
  },
  {
   "cell_type": "code",
   "execution_count": 22,
   "id": "e51bbefb",
   "metadata": {},
   "outputs": [
    {
     "name": "stdout",
     "output_type": "stream",
     "text": [
      "13.8 µs ± 102 ns per loop (mean ± std. dev. of 7 runs, 100,000 loops each)\n"
     ]
    }
   ],
   "source": [
    "%timeit np.random.uniform(-90.000,90.000, size= 1500)"
   ]
  },
  {
   "cell_type": "code",
   "execution_count": 23,
   "id": "3f407e4a",
   "metadata": {},
   "outputs": [
    {
     "name": "stdout",
     "output_type": "stream",
     "text": [
      "1.12 ms ± 7.35 µs per loop (mean ± std. dev. of 7 runs, 1,000 loops each)\n"
     ]
    }
   ],
   "source": [
    "def latitudes(size):\n",
    "    latitudes=[]\n",
    "    x=0\n",
    "    while x<(size):\n",
    "        random_lat= random.randint(-90,90)+random.random()\n",
    "        latitudes.append(random_lat)\n",
    "        x += 1\n",
    "    return latitudes\n",
    "#Call the function with 1500.\n",
    "%timeit latitudes(1500)\n",
    "    "
   ]
  },
  {
   "cell_type": "code",
   "execution_count": null,
   "id": "3e5b2c4e",
   "metadata": {},
   "outputs": [],
   "source": []
  }
 ],
 "metadata": {
  "kernelspec": {
   "display_name": "Python 3 (ipykernel)",
   "language": "python",
   "name": "python3"
  },
  "language_info": {
   "codemirror_mode": {
    "name": "ipython",
    "version": 3
   },
   "file_extension": ".py",
   "mimetype": "text/x-python",
   "name": "python",
   "nbconvert_exporter": "python",
   "pygments_lexer": "ipython3",
   "version": "3.9.12"
  }
 },
 "nbformat": 4,
 "nbformat_minor": 5
}
